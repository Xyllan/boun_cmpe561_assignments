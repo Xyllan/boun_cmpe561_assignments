{
 "cells": [
  {
   "cell_type": "markdown",
   "metadata": {},
   "source": [
    "\n",
    "# CMPE561: Natural Language Processing\n",
    "# Assignment 1: Authorship Recognition using Naive Bayes\n",
    "\n",
    "**Name:** Doruk Kilitçioğlu  \n",
    "**Student ID:** 2012400183\n",
    "## 1. Introduction\n",
    "This assignment was challenging, yet straightforward to implement. By the time I had finished with everything except the extra feature sets, I felt quite pleased at having implemented much of the assignment. But then, I attempted some extra feature sets, and failed spectacularly. That failure by itself made me learn of the differences between a Naive Bayes classifier, a Multinomial Naive Bayes classifier, and the bag of words feature set. I had to go back and reimplement most of my classifier codes, but in the end, I feel very much on top of things, more so than I would have been have I without my failure. The code and the report in Jupyter Notebook format can be found at [GitHub](https://github.com/Xyllan/nlp_assignment_1).\n",
    "\n",
    "Below are the incremental steps I have taken during the assignment.\n",
    "## 2. Preprocessing\n",
    "The preprocessing phase is quite simple. Given one input directory (the dataset) and two output directories (training and test directories), I collect the files from the author folders, shuffle them using Fisher-Yates shuffle, copy the first 60% into the training directory and the last 40% to the test directory. The preprocessor can be run by calling\n",
    "\n",
    "    ./preprocessor.py path/to/dataset path/to/training/set path/to/test/set\n",
    "\n",
    "Since the code is object oriented, the same can be achieved by creating a Preprocessor object and calling the relevant functions.\n"
   ]
  },
  {
   "cell_type": "code",
   "execution_count": 2,
   "metadata": {
    "collapsed": false
   },
   "outputs": [
    {
     "name": "stdout",
     "output_type": "stream",
     "text": [
      "Training directory path: 69yazar/raw_texts__training\n",
      "Test directory path: 69yazar/raw_texts__test\n"
     ]
    }
   ],
   "source": [
    "from preprocessor import Preprocessor\n",
    "p = Preprocessor()\n",
    "seed = 1234\n",
    "tra, tes = p.organize_dataset(seed, '69yazar/raw_texts', training_path = '69yazar/raw_texts__training',\n",
    "                              test_path = '69yazar/raw_texts__test')\n",
    "print('Training directory path:',tra)\n",
    "print('Test directory path:',tes)"
   ]
  },
  {
   "cell_type": "markdown",
   "metadata": {},
   "source": [
    "The preprocessor keeps track of the files in training and test datasets. The generated training and test datasets as follows:"
   ]
  },
  {
   "cell_type": "code",
   "execution_count": 3,
   "metadata": {
    "collapsed": false
   },
   "outputs": [
    {
     "name": "stdout",
     "output_type": "stream",
     "text": [
      "Class: ruhatMengi (9 training 6 test)\n",
      "Class: emreAkoz (18 training 12 test)\n",
      "Class: hasmetBabaoglu (6 training 4 test)\n",
      "Class: nurayMert (6 training 4 test)\n",
      "Class: huseyinGulerce (6 training 4 test)\n",
      "Class: mehmetTezkan (6 training 4 test)\n",
      "Class: hasanPulur (6 training 4 test)\n",
      "Class: omerUrundul (6 training 4 test)\n",
      "Class: hincalUluc (6 training 4 test)\n",
      "Class: fikretBila (6 training 4 test)\n",
      "Class: melihAsik (6 training 4 test)\n",
      "Class: raufTamer (6 training 4 test)\n",
      "Class: abdullahAymaz (6 training 4 test)\n",
      "Class: bulentKorucu (6 training 4 test)\n",
      "Class: mumtazerTurkone (6 training 4 test)\n",
      "Class: gulseBirsel (6 training 4 test)\n",
      "Class: doganHizlan (9 training 6 test)\n",
      "Class: muratBardakci (6 training 4 test)\n",
      "Class: cemSuer (6 training 4 test)\n",
      "Class: muratBelge (6 training 4 test)\n",
      "Class: ayseArman (9 training 6 test)\n",
      "Class: deryaSazak (6 training 4 test)\n",
      "Class: emreKongar (9 training 6 test)\n",
      "Class: mehmetaliBirand (6 training 4 test)\n",
      "Class: tahaAkyol (18 training 12 test)\n",
      "Class: mahfiEgilmez (9 training 6 test)\n",
      "Class: yilmazOzdil (6 training 4 test)\n",
      "Class: muratYetkin (6 training 4 test)\n",
      "Class: tarhanErdem (6 training 4 test)\n",
      "Class: cengizCandar (6 training 4 test)\n",
      "Class: ahmetAltan (6 training 4 test)\n",
      "Class: hekimogluIsmail (6 training 4 test)\n",
      "Class: atillaDorsay (9 training 6 test)\n",
      "Class: eceTemelkuran (6 training 4 test)\n",
      "Class: savasAy (6 training 4 test)\n",
      "Class: ahmetHakan (9 training 6 test)\n",
      "Class: fehmiKoru (6 training 4 test)\n",
      "Class: ridvanDilmen (9 training 6 test)\n",
      "Class: canDundar (6 training 4 test)\n",
      "Class: oralCalislar (6 training 4 test)\n",
      "Class: nihalKaraca (6 training 4 test)\n",
      "Class: hakkiDevrim (9 training 6 test)\n",
      "Class: nazliIlicak (6 training 4 test)\n",
      "Class: ertugrulOzkok (6 training 4 test)\n",
      "Class: cetinAltan (18 training 12 test)\n",
      "Class: yigitBulut (6 training 4 test)\n",
      "Class: ekremDumanli (18 training 12 test)\n",
      "Class: rehaMuhtar (6 training 4 test)\n",
      "Class: fundaOzkan (6 training 4 test)\n",
      "Class: cemilErtem (6 training 4 test)\n",
      "Class: abbasGuclu (9 training 6 test)\n",
      "Class: umurTalu (6 training 4 test)\n",
      "Class: elifSafak (6 training 4 test)\n",
      "Class: fatihAltayli (18 training 12 test)\n",
      "Class: bekirCoskun (6 training 4 test)\n",
      "Class: ergunBabahan (6 training 4 test)\n",
      "Class: zekiCol (6 training 4 test)\n",
      "Class: balcicekPamir (18 training 12 test)\n",
      "Class: ismetBerkan (6 training 4 test)\n",
      "Class: hasanCemal (6 training 4 test)\n",
      "Class: samikohen (18 training 12 test)\n",
      "Class: tamerKorkmaz (6 training 4 test)\n",
      "Class: mehmetOz (9 training 6 test)\n",
      "Class: mehmetBarlas (18 training 12 test)\n",
      "Class: serpilYilmaz (6 training 4 test)\n",
      "Class: yaseminCongar (6 training 4 test)\n",
      "Class: aliBulac (6 training 4 test)\n",
      "Class: yukselAytug (9 training 6 test)\n",
      "Class: guneriCivaoglu (6 training 4 test)\n"
     ]
    }
   ],
   "source": [
    "p.organize_authors(tra, tes)\n",
    "authors = p.get_authors()\n",
    "for author in authors:\n",
    "    print('Class:',author, '('+str(len(p.training_data(author))) + ' training',\n",
    "          str(len(p.test_data(author)))+' test)')"
   ]
  },
  {
   "cell_type": "markdown",
   "metadata": {},
   "source": [
    "## 3. Tokenizer\n",
    "\n",
    "The tokenizer is quite basic. Given a filepath, it reads the file in the Windows-1254 encoding, splits it into sentences, and then splits the sentences into tokens. The sentence splitting is done by matching any of the $.!?:$ characters, with the exception of a dot preceded and followed by numbers (eg. 4.5). The sentence tokenizing employs a few basic rules:\n",
    "* Match any non-whitespace character sequences.\n",
    "* Remove any surrounding punctuation marks.\n",
    "* If there is an apostrophe, remove apostrophe and the characters to its left.\n",
    "* If all characters are uppercase, keep it uppercase, otherwise convert to lowercase.\n",
    "* If token is part of a list of stopwords, discard token.\n",
    "\n",
    "There are four different use methods for the Tokenizer:\n",
    "1. Token stream through has_next() and next_token() methods (as is customary).\n",
    "2. List of all word tokens through bag_of_words() method.\n",
    "3. List of all character n-grams through bag_of_char_ngrams() method.\n",
    "4. List of features through features() method.\n",
    "\n",
    "I have not chosen to employ a stemmer or a POS-tagger. The most widely known Turkish stemmer and POS-tagger is Zemberek-NLP, which is written in Java and it would've been a pain to write a Python wrapper to it, for minimal gain. The features generated by the tokenizer will be explained in the extra feature set section.\n",
    "\n",
    "The stopword list is taken from [Türkçe Öğretimi](http://www.turkceogretimi.com/Genel-Konular/article/541-turkce-etkisiz-kelimeler-stop-words-listesi-11/35)."
   ]
  },
  {
   "cell_type": "code",
   "execution_count": 4,
   "metadata": {
    "collapsed": false,
    "scrolled": true
   },
   "outputs": [
    {
     "name": "stdout",
     "output_type": "stream",
     "text": [
      "Original:\n",
      "\n",
      "El freni Rijkaard...\n",
      " \n",
      " Siz Elano’yu, Arda’yı, Nonda’yı çıkarırsanız nasıl öne oynayabilirsiniz. Ayhan ile ileri gidebilir misiniz?\n",
      " \n",
      " Önce Beşiktaş berabere kalmış, ardından Fenerbahçe yenilmiş. Kötü ...\n",
      "\n",
      "Sentences:\n",
      "['El freni Rijkaard', 'Siz Elano’yu, Arda’yı, Nonda’yı çıkarırsanız nasıl öne oynayabilirsiniz', 'Ayhan ile ileri gidebilir misiniz']\n"
     ]
    }
   ],
   "source": [
    "from tokenizer import Tokenizer\n",
    "t = Tokenizer(p.file_path('ridvanDilmen', p.training_data('ridvanDilmen')[0]))\n",
    "print('Original:\\n')\n",
    "print(t.original[0:200],'...')\n",
    "print('\\nSentences:')\n",
    "print(t.sentences[0:3])"
   ]
  },
  {
   "cell_type": "markdown",
   "metadata": {},
   "source": [
    "It is easy to use the bag of words.."
   ]
  },
  {
   "cell_type": "code",
   "execution_count": 5,
   "metadata": {
    "collapsed": false,
    "scrolled": true
   },
   "outputs": [
    {
     "name": "stdout",
     "output_type": "stream",
     "text": [
      "Unique words: 189\n",
      "# occurences of 'arda': 3\n"
     ]
    }
   ],
   "source": [
    "bag = t.bag_of_words()\n",
    "print('Unique words:',len(bag))\n",
    "print('# occurences of \\'arda\\':',bag['arda'])"
   ]
  },
  {
   "cell_type": "markdown",
   "metadata": {},
   "source": [
    ".. and the bag of character n-grams."
   ]
  },
  {
   "cell_type": "code",
   "execution_count": 6,
   "metadata": {
    "collapsed": false
   },
   "outputs": [
    {
     "name": "stdout",
     "output_type": "stream",
     "text": [
      "Unique n-grams: 361\n",
      "# of occurences of 'tasara': 5\n"
     ]
    }
   ],
   "source": [
    "bag = t.bag_of_char_ngrams(6)\n",
    "print('Unique n-grams:',len(bag))\n",
    "print('# of occurences of \\'tasara\\':', bag['tasara'])"
   ]
  },
  {
   "cell_type": "markdown",
   "metadata": {},
   "source": [
    "The bag of words representations of token lists are easily produced using the Counter class in Python collections library.\n",
    "## 4. Naive Bayes Classifier\n",
    "There are 3 different Naive Bayes classifiers included in the project. All of them are vectorized with NumPy. One is the Multinomial Naive Bayes implementation, that is used alongside the bag of words and bag of character n-grams feature sets. Other is the Binarized Multinomial Naive Bayes classifier, which the set of words feature set. Note that by taking $min(1,feature\\ counts)$ on the vectorized bag of words, we get a set of words representation.\n",
    "\n",
    "These classifiers first amass the features and feature counts of each class. From there, a unique list of features is constructed (a vocabulary in the bag of words case). These features are then vectorized and the log probabilities of all features are computed, including the probability of an unknown/non-occuring feature. This vectorization does lead to a very sparse matrix of classes and features, but leads to a more generic Multinomial Naive Bayes implementation, decoupled from the bag of words feature set."
   ]
  },
  {
   "cell_type": "code",
   "execution_count": 7,
   "metadata": {
    "collapsed": false
   },
   "outputs": [
    {
     "name": "stdout",
     "output_type": "stream",
     "text": [
      "Guessing: Chinese Chinese Chinese Japan Tokyo Adelaide Macao\n",
      "Vector representation: [1 1 0 1 0 3 1]\n",
      "Predicted class: china\n"
     ]
    }
   ],
   "source": [
    "from naive_bayes import MultinomialNaiveBayes\n",
    "from collections import Counter\n",
    "bayes = MultinomialNaiveBayes(['china','japan'])\n",
    "china = 'Chinese Beijing Chinese Chinese Chinese Shanghai Chinese Macao'.split(' ')\n",
    "japan = 'Tokyo Japan Chinese'.split(' ')\n",
    "bayes.add_documents('china', amount = 3)\n",
    "bayes.add_documents('japan', amount = 1)\n",
    "bayes.add_feature_counts('china', Counter(china))\n",
    "bayes.add_feature_counts('japan', Counter(japan))\n",
    "bayes.train()\n",
    "s = 'Chinese Chinese Chinese Japan Tokyo Adelaide Macao'\n",
    "print('Guessing:',s)\n",
    "v = bayes.vectorize(Counter(s.split(' ')))\n",
    "print('Vector representation:',v)\n",
    "print('Predicted class:',bayes.most_probable_class(v))"
   ]
  },
  {
   "cell_type": "markdown",
   "metadata": {},
   "source": [
    "The unknown words are represented by the last index of the feature vector.\n",
    "\n",
    "In most cases, the multiple appearances of a word is immaterial; this will be confirmed in the results section."
   ]
  },
  {
   "cell_type": "code",
   "execution_count": 8,
   "metadata": {
    "collapsed": false
   },
   "outputs": [
    {
     "name": "stdout",
     "output_type": "stream",
     "text": [
      "Guessing: Chinese Chinese Chinese Japan Tokyo Adelaide Macao\n",
      "Vector representation: [1 1 0 1 0 1 1]\n",
      "Predicted class: japan\n"
     ]
    }
   ],
   "source": [
    "from naive_bayes import BinarizedMultinomialNaiveBayes\n",
    "bbayes = BinarizedMultinomialNaiveBayes(['china','japan'])\n",
    "bbayes.add_documents('china', amount = 3)\n",
    "bbayes.add_documents('japan', amount = 1)\n",
    "bbayes.add_feature_counts('china', Counter(china))\n",
    "bbayes.add_feature_counts('japan', Counter(japan))\n",
    "bbayes.train()\n",
    "print('Guessing:',s)\n",
    "v = bbayes.vectorize(Counter(s.split(' ')))\n",
    "print('Vector representation:',v)\n",
    "print('Predicted class:',bbayes.most_probable_class(v))"
   ]
  },
  {
   "cell_type": "markdown",
   "metadata": {},
   "source": [
    "The last one is Normalizing Naive Bayes classifier, which tries to fit features into normal distributions. The probability of a feature given a class then becomes the probability density of that feature for each occurance. It is mainly made use for the complexity features.\n",
    "## 5. Extra Feature Sets\n",
    "I have chosen 3 different extra feature sets to implement. The bag of character n-grams was mentioned in the assignment description, which work similar to the bag of words. The set of words feature set is essentially bag of words applied to the Binarized Multinomial Naive Bayes classifier. It does work surprisingly well, as will be apparent in the results section. The third feature set is completixy features. I have employed the following complexity features in my feature set:\n",
    "* Number of sentences in a document\n",
    "* Average number of words in a sentence\n",
    "* Average word length\n",
    "* Average number of commas in a sentence\n",
    "* Average number of exclamation marks in a sentence\n",
    "* Average number of question marks in a sentence\n",
    "* Average number of periods in a sentence\n",
    "* Average number of unique words per word\n",
    "\n",
    "Unfortunately, these complexity features were a poor fit to normal distributions, as will be discussed in the results section.\n",
    "## 6. Tester\n",
    "The tester trains the naive bayes implementations, tests with the test data, and calculates the related scores. A confusion matrix is built from the test data, which is then used to calculate various scores. The $test\\_authors()$ method of the tester constructs the testing environment for all feature sets. Note that the calculation takes 1-2 minutes if all feature sets are enabled.\n",
    "\n",
    "The test set can be called from the command prompt by\n",
    "\n",
    "    ./tester.py path/to/training/set path/to/test/set\n",
    "    \n",
    "which will print to the console the micro and macro averaged precision, recall, and f-score values of the bag of words feature set and the bag of character n-grams feature set. Here, we will report scores of all extra feature sets."
   ]
  },
  {
   "cell_type": "code",
   "execution_count": 9,
   "metadata": {
    "collapsed": false
   },
   "outputs": [
    {
     "name": "stdout",
     "output_type": "stream",
     "text": [
      "Bag of words scores:\n",
      "Micro-averaged scores:\n",
      "Precision: 0.684065934066\n",
      "Recall: 0.684065934066\n",
      "F-score (beta=1): 0.684065934066\n",
      "Macro-averaged scores:\n",
      "Precision: 0.730798123445\n",
      "Recall: 0.623188405797\n",
      "F-score (beta=1): 0.672717058366\n"
     ]
    }
   ],
   "source": [
    "import tester\n",
    "import numpy as np\n",
    "scores = ()\n",
    "with np.errstate(divide='ignore', invalid='ignore'):\n",
    "    scores = tester.test_authors(p, bag_of_words = True, alpha = 0.05, print_predictions = False,\n",
    "                      bag_of_char_ngrams = True, ngram_len = 5, set_of_words = True, complexity_features = True)\n",
    "print('Bag of words scores:')\n",
    "tester.print_scores(scores[0])"
   ]
  },
  {
   "cell_type": "markdown",
   "metadata": {},
   "source": [
    "## 7. Results"
   ]
  },
  {
   "cell_type": "code",
   "execution_count": 10,
   "metadata": {
    "collapsed": false,
    "scrolled": false
   },
   "outputs": [
    {
     "data": {
      "image/png": "[encoded data removed]",
      "text/plain": [
       "<matplotlib.figure.Figure at 0x7f168062f588>"
      ]
     },
     "metadata": {},
     "output_type": "display_data"
    }
   ],
   "source": [
    "%matplotlib inline\n",
    "import matplotlib.pyplot as plt\n",
    "features = ['Bag of Words', 'Bag of Character N-Grams', 'Set of Words', 'Complexity Features']\n",
    "score_v = np.array(scores)\n",
    "fig, ax = plt.subplots(3, 2, figsize=(16, 14))\n",
    "mm = ['Micro averaged','Macro averaged']\n",
    "ss = ['Precision','Recall','F-score']\n",
    "plt.setp(ax, xticks=[0,1,2,3], xticklabels=features)\n",
    "for col in range(2):\n",
    "    for row in range(3):\n",
    "        ax[row,col].plot(np.array(range(4)), score_v[:,col*3+row], 'ro')\n",
    "        ax[row,col].axis([-0.5, 3.5, 0, 1])\n",
    "        ax[row,col].set_title(mm[col]+' '+ss[row])"
   ]
  },
  {
   "cell_type": "code",
   "execution_count": 11,
   "metadata": {
    "collapsed": false
   },
   "outputs": [
    {
     "name": "stdout",
     "output_type": "stream",
     "text": [
      "Scores for the Bag of Words feature set:\n",
      "Micro-averaged scores:\n",
      "Precision: 0.684065934066\n",
      "Recall: 0.684065934066\n",
      "F-score (beta=1): 0.684065934066\n",
      "Macro-averaged scores:\n",
      "Precision: 0.730798123445\n",
      "Recall: 0.623188405797\n",
      "F-score (beta=1): 0.672717058366\n",
      "\n",
      "\n",
      "Scores for the Bag of Character N-Grams feature set:\n",
      "Micro-averaged scores:\n",
      "Precision: 0.557692307692\n",
      "Recall: 0.557692307692\n",
      "F-score (beta=1): 0.557692307692\n",
      "Macro-averaged scores:\n",
      "Precision: 0.679824409367\n",
      "Recall: 0.481884057971\n",
      "F-score (beta=1): 0.563990974163\n",
      "\n",
      "\n",
      "Scores for the Set of Words feature set:\n",
      "Micro-averaged scores:\n",
      "Precision: 0.662087912088\n",
      "Recall: 0.662087912088\n",
      "F-score (beta=1): 0.662087912088\n",
      "Macro-averaged scores:\n",
      "Precision: 0.775303280948\n",
      "Recall: 0.601449275362\n",
      "F-score (beta=1): 0.677399281919\n",
      "\n",
      "\n",
      "Scores for the Complexity Features feature set:\n",
      "Micro-averaged scores:\n",
      "Precision: 0.131868131868\n",
      "Recall: 0.131868131868\n",
      "F-score (beta=1): 0.131868131868\n",
      "Macro-averaged scores:\n",
      "Precision: 0.118331811163\n",
      "Recall: 0.111111111111\n",
      "F-score (beta=1): 0.114607841356\n",
      "\n",
      "\n"
     ]
    }
   ],
   "source": [
    "tester.print_multiple_scores(scores)"
   ]
  },
  {
   "cell_type": "markdown",
   "metadata": {},
   "source": [
    "We can see that the Bag of Words feature set gets the highest micro averaged precision, recall, and f-scores, while the set of words feature set does get the highest macro averaged precision and f-scores. The fact that we are ignoring most of the frequency aspect of the bag of words and still getting high results confirm the suspicion that when a word has appeared once, it is likely to appear again, and hence the frequency aspect is overrated.\n",
    "\n",
    "The character n-grams performed a tid bit worse, with f-scores around 0.56 to bag of words' 0.68. The choice of *n* did not seem to matter as long as it was not too large, where the data becomes too sparse to classify correctly.\n",
    "\n",
    "The bad performance of the complexity features feature set suggest that either our feature set was inadequate, or that normal distributions were not a good fit for our selection of features. Given that the standard deviations of the features are relatively high, the inability to fit adequately is not much of a surprise. And since I did not employ any POS-tagging, I am missing large portion of the available features.\n",
    "\n",
    "One thing of note is how much our selection of the Laplace smoothing parameter $\\alpha$ changes our results. With $\\alpha=1$, the bag of words f-scores were around 0.35. After setting $\\alpha=0.05$, the results skyrocketed. This is most probably due to the relative smallness of our training data. When working with English data on classes like *positive* or *economy*, there are abundant sources of annotated data. By reducing $\\alpha$, we are compensating for our lack of data.\n",
    "\n",
    "In the end, the second best feature set we have is the set of words feature set, with character n-grams trailing close behind. Perhaps the complexity features are best explored at another time, with the POS-tagging in my feature set."
   ]
  }
 ],
 "metadata": {
  "kernelspec": {
   "display_name": "Python 3",
   "language": "python",
   "name": "python3"
  },
  "language_info": {
   "codemirror_mode": {
    "name": "ipython",
    "version": 3
   },
   "file_extension": ".py",
   "mimetype": "text/x-python",
   "name": "python",
   "nbconvert_exporter": "python",
   "pygments_lexer": "ipython3",
   "version": "3.5.1"
  }
 },
 "nbformat": 4,
 "nbformat_minor": 0
}
